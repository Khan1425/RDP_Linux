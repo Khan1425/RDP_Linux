{
  "nbformat": 4,
  "nbformat_minor": 0,
  "metadata": {
    "colab": {
      "name": "Small.ipynb",
      "private_outputs": true,
      "provenance": [],
      "collapsed_sections": [],
      "include_colab_link": true
    },
    "kernelspec": {
      "name": "python3",
      "display_name": "Python 3"
    },
    "language_info": {
      "name": "python"
    }
  },
  "cells": [
    {
      "cell_type": "markdown",
      "metadata": {
        "id": "view-in-github",
        "colab_type": "text"
      },
      "source": [
        "<a href=\"https://colab.research.google.com/github/amitstudydude/RDP_Linux/blob/main/Small.ipynb\" target=\"_parent\"><img src=\"https://colab.research.google.com/assets/colab-badge.svg\" alt=\"Open In Colab\"/></a>"
      ]
    },
    {
      "cell_type": "code",
      "source": [
        "CRP = \"\" #@param {type: \"string\"}\n",
        "!echo https://remotedesktop.google.com/headless"
      ],
      "metadata": {
        "id": "V4M22ZOofRyS"
      },
      "execution_count": null,
      "outputs": []
    },
    {
      "cell_type": "code",
      "execution_count": null,
      "metadata": {
        "id": "0BG1FbEMOlZY"
      },
      "outputs": [],
      "source": [
        "import os\n",
        "!wget https://dl.google.com/linux/direct/chrome-remote-desktop_current_amd64.deb https://dl.google.com/linux/direct/google-chrome-stable_current_amd64.deb && sudo useradd -m user && sudo adduser user sudo && echo 'user:user' | sudo chpasswd && yes user | sudo passwd \n",
        "os.system(\"sudo apt install --assume-yes --fix-broken ./*.deb\")\n",
        "!sudo adduser user chrome-remote-desktop\n",
        "!sudo rm *"
      ]
    },
    {
      "cell_type": "code",
      "source": [
        "import os\n",
        "os.system(\"sudo apt-get install xfce4 xfce4-goodies xfce4-terminal  firefox -y\")"
      ],
      "metadata": {
        "id": "qlK0yY06Ou9U"
      },
      "execution_count": null,
      "outputs": []
    },
    {
      "cell_type": "code",
      "source": [
        "import os\n",
        "command = f\"{CRP} -pin=123456\"\n",
        "os.system(f\"su - user -c '{command}'\")\n",
        "os.system(\"service chrome-remote-desktop start\")\n",
        "!echo https://remotedesktop.google.com/access\n",
        "os.system(\"sudo apt-get install xfce4 xfce4-goodies xfce4-terminal  firefox -y && sudo apt update && sudo apt upgrade -y\")\n",
        "!wget https://bin.equinox.io/c/4VmDzA7iaHb/ngrok-stable-linux-amd64.zip && unzip *.* && ./ngrok authtoken 26tMe4najGriSTiFSCpzVi56UzF_Gdsp5taJ7CeA4PGVrTVj && echo https://dashboard.ngrok.com/cloud-edge/endpoints && ./ngrok tcp 3389\n",
        "!sleep 1d"
      ],
      "metadata": {
        "id": "KIewY2JxT8Cg"
      },
      "execution_count": null,
      "outputs": []
    }
  ]
}
