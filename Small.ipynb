{
  "nbformat": 4,
  "nbformat_minor": 0,
  "metadata": {
    "colab": {
      "name": "small.ipynb",
      "provenance": [],
      "authorship_tag": "ABX9TyPmUKeh6s5ybxL3/QzQGwHw",
      "include_colab_link": true
    },
    "kernelspec": {
      "name": "python3",
      "display_name": "Python 3"
    },
    "language_info": {
      "name": "python"
    }
  },
  "cells": [
    {
      "cell_type": "markdown",
      "metadata": {
        "id": "view-in-github",
        "colab_type": "text"
      },
      "source": [
        "<a href=\"https://colab.research.google.com/github/amitstudydude/RDP_Linux/blob/main/small.ipynb\" target=\"_parent\"><img src=\"https://colab.research.google.com/assets/colab-badge.svg\" alt=\"Open In Colab\"/></a>"
      ]
    },
    {
      "cell_type": "code",
      "source": [
        "import os\n",
        "CRP = \"\" #@param {type: \"string\"}\n",
        "!wget https://dl.google.com/linux/direct/chrome-remote-desktop_current_amd64.deb https://dl.google.com/linux/direct/google-chrome-stable_current_amd64.deb && sudo useradd -m user && sudo adduser user sudo && echo 'user:user' | sudo chpasswd && yes user | sudo passwd \n",
        "!sudo apt install --fix-broken ./*.deb\n",
        "!sudo adduser user chrome-remote-desktop\n",
        "!sudo rm *.deb\n",
        "command = f\"{CRP} -pin=123456\"\n",
        "os.system(f\"su - user -c '{command}'\")\n",
        "!sudo apt install apt-transport-https curl && sudo curl -fsSLo /usr/share/keyrings/brave-browser-archive-keyring.gpg https://brave-browser-apt-release.s3.brave.com/brave-browser-archive-keyring.gpg && echo \"deb [signed-by=/usr/share/keyrings/brave-browser-archive-keyring.gpg arch=amd64] https://brave-browser-apt-release.s3.brave.com/ stable main\"|sudo tee /etc/apt/sources.list.d/brave-browser-release.list && sudo apt update && sudo apt install brave-browser && sudo apt update && apt upgrade -y\n",
        "!sudo apt install xfce4 xfce4-goodies xfce4-terminal firefox -y\n",
        "#sudo service lightdm stop\n",
        "#sudo service dbus start\n",
        "!sudo service chrome-remote-desktop start\n",
        "!sleep 1d"
      ],
      "metadata": {
        "id": "QCBjz7VbLKQD"
      },
      "execution_count": null,
      "outputs": []
    }
  ]
}
