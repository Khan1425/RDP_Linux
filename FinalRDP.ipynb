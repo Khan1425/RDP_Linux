{
  "nbformat": 4,
  "nbformat_minor": 0,
  "metadata": {
    "colab": {
      "name": "FinalRDP.ipynb",
      "private_outputs": true,
      "provenance": [],
      "collapsed_sections": [],
      "authorship_tag": "ABX9TyOhn9dOSB65ZChtb87mBqZL",
      "include_colab_link": true
    },
    "kernelspec": {
      "name": "python3",
      "display_name": "Python 3"
    },
    "language_info": {
      "name": "python"
    }
  },
  "cells": [
    {
      "cell_type": "markdown",
      "metadata": {
        "id": "view-in-github",
        "colab_type": "text"
      },
      "source": [
        "<a href=\"https://colab.research.google.com/github/amitstudydude/RDP_Linux/blob/main/FinalRDP.ipynb\" target=\"_parent\"><img src=\"https://colab.research.google.com/assets/colab-badge.svg\" alt=\"Open In Colab\"/></a>"
      ]
    },
    {
      "cell_type": "code",
      "execution_count": null,
      "metadata": {
        "id": "0BG1FbEMOlZY"
      },
      "outputs": [],
      "source": [
        "!wget https://dl.google.com/linux/direct/chrome-remote-desktop_current_amd64.deb https://dl.google.com/linux/direct/google-chrome-stable_current_amd64.deb && sudo useradd -m user && sudo adduser user sudo && echo 'user:user' | sudo chpasswd\n",
        "!sudo apt install --assume-yes --fix-broken ./*.deb\n",
        "!sudo adduser user chrome-remote-desktop\n",
        "!sudo rm *\n",
        "!echo https://remotedesktop.google.com/headless"
      ]
    },
    {
      "cell_type": "code",
      "source": [
        "!sudo apt-get install xfce4 xfce4-goodies xfce4-terminal  firefox -y"
      ],
      "metadata": {
        "id": "qlK0yY06Ou9U"
      },
      "execution_count": null,
      "outputs": []
    },
    {
      "cell_type": "code",
      "source": [
        "import os\n",
        "CRP = \"\" #@param {type: \"string\"}\n",
        "command = f\"{CRP} -pin=123456\"\n",
        "os.system(f\"su - user -c '{command}'\")\n",
        "os.system(\"service chrome-remote-desktop start\")\n",
        "os.system(\"!sudo apt-get install xfce4 xfce4-goodies xfce4-terminal  firefox -y\")\n",
        "!sudo apt update && sudo apt upgrade -y && sudo apt install ubuntu-desktop\n",
        "!sleep 1d"
      ],
      "metadata": {
        "id": "KIewY2JxT8Cg"
      },
      "execution_count": null,
      "outputs": []
    }
  ]
}
